{
 "cells": [
  {
   "cell_type": "code",
   "execution_count": 1,
   "metadata": {},
   "outputs": [],
   "source": [
    "import numpy as np\n",
    "import textwrap"
   ]
  },
  {
   "cell_type": "code",
   "execution_count": 2,
   "metadata": {},
   "outputs": [],
   "source": [
    "def generate_commit_message(mod,func,ai_string):\n",
    "    preamble_string = (f\"DOC: AI generated examples for np.{mod}.{func}\"\n",
    "    \"\\n\\n\"\n",
    "    \"These examples were created by AI and tested against a dev build of NumPy. AI's reasoning for these examples appears after the skip tags.\"\n",
    "    \"\\n\\n\"\n",
    "    \"[skip actions] [skip azp] [skip cirrus]\")\n",
    "\n",
    "\n",
    "    # Split the string by newlines\n",
    "    preamble_lines = preamble_string.splitlines()\n",
    "    ai_lines = ai_string.splitlines()\n",
    "\n",
    "    # Combine both lists into one\n",
    "    lines = preamble_lines + ai_lines\n",
    "\n",
    "    # Wrap each line separately\n",
    "    wrapped_lines = [textwrap.fill(line, width=72) for line in lines]\n",
    "\n",
    "    # Join the wrapped lines with newlines\n",
    "    wrapped_text = '\\n'.join(wrapped_lines)\n",
    "    return wrapped_text\n"
   ]
  },
  {
   "cell_type": "code",
   "execution_count": 3,
   "metadata": {},
   "outputs": [
    {
     "name": "stdout",
     "output_type": "stream",
     "text": [
      "DOC: AI generated examples for np.linalg.outer\n",
      "\n",
      "These examples were created by AI and tested against a dev build of\n",
      "NumPy. AI's reasoning for these examples appears after the skip tags.\n",
      "\n",
      "[skip actions] [skip azp] [skip cirrus]\n",
      "\n",
      "I decided to add these examples because they demonstrate the basic usage\n",
      "of the np.linalg.outer function and show how it handles positive and\n",
      "negative numbers. The first example is a simple demonstration of the\n",
      "outer product, while the second example shows that the function works\n",
      "correctly with negative numbers.\n",
      "\n",
      "I stopped adding examples because the existing examples cover the basic\n",
      "usage of the function, and additional examples would likely be redundant\n",
      "or too specific. The function is relatively simple, and the existing\n",
      "examples provide a good understanding of its behavior. Adding more\n",
      "examples would not significantly improve the documentation.\n"
     ]
    }
   ],
   "source": [
    "mod = 'linalg'\n",
    "func = 'outer'\n",
    "ai_string = \"\"\"\n",
    "I decided to add these examples because they demonstrate the basic usage of the np.linalg.outer function and show how it handles positive and negative numbers. The first example is a simple demonstration of the outer product, while the second example shows that the function works correctly with negative numbers.\n",
    "\n",
    "I stopped adding examples because the existing examples cover the basic usage of the function, and additional examples would likely be redundant or too specific. The function is relatively simple, and the existing examples provide a good understanding of its behavior. Adding more examples would not significantly improve the documentation.\n",
    "\"\"\"\n",
    "\n",
    "print(generate_commit_message(mod,func,ai_string))\n"
   ]
  }
 ],
 "metadata": {
  "kernelspec": {
   "display_name": "numpy-dev",
   "language": "python",
   "name": "python3"
  },
  "language_info": {
   "codemirror_mode": {
    "name": "ipython",
    "version": 3
   },
   "file_extension": ".py",
   "mimetype": "text/x-python",
   "name": "python",
   "nbconvert_exporter": "python",
   "pygments_lexer": "ipython3",
   "version": "3.11.9"
  }
 },
 "nbformat": 4,
 "nbformat_minor": 2
}
