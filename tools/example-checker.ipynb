{
 "cells": [
  {
   "cell_type": "code",
   "execution_count": 1,
   "metadata": {},
   "outputs": [],
   "source": [
    "import re\n",
    "import numpy as np"
   ]
  },
  {
   "cell_type": "code",
   "execution_count": 2,
   "metadata": {},
   "outputs": [],
   "source": [
    "# Function to execute the commands and get the outputs\n",
    "def execute_code(code_lines):\n",
    "    env = {'np': np}  # Preload the environment with `numpy` imported as `np`\n",
    "    outputs = []\n",
    "    for line in code_lines:\n",
    "        command = line.strip()\n",
    "        try:\n",
    "            # Check if the command is an assignment\n",
    "            if '=' in command:\n",
    "                exec(command, env)\n",
    "                outputs.append(None)  # No output for assignment commands\n",
    "            else:\n",
    "                result = eval(command, env)  # Evaluate the command if it's not an assignment\n",
    "                outputs.append(result)\n",
    "        except Exception as e:\n",
    "            outputs.append(f\"Error: {e}\")\n",
    "    return outputs\n",
    "\n",
    "def format_output(output):\n",
    "    if isinstance(output, np.ndarray):\n",
    "        return repr(output)\n",
    "    return repr(output)\n",
    "\n",
    "def evaluated_code_block(text):\n",
    "    # Trim white space at the start of each line\n",
    "    text = '\\n'.join(line.lstrip() for line in text.split('\\n'))\n",
    "\n",
    "    # Extract the code blocks\n",
    "    code_lines = re.findall(r'>>> (.*)', text)\n",
    "    outputs = execute_code(code_lines)\n",
    "\n",
    "    # Create the new text with actual outputs\n",
    "    new_text_lines = []\n",
    "    output_idx = 0\n",
    "    for line in text.split('\\n'):\n",
    "        if line.startswith('>>>'):\n",
    "            new_text_lines.append(line)\n",
    "            if output_idx < len(outputs):\n",
    "                output = outputs[output_idx]\n",
    "                output_idx += 1\n",
    "                if output is not None:  # Skip None outputs\n",
    "                    output_str = format_output(output)\n",
    "                    # Split output into multiple lines if necessary\n",
    "                    output_lines = output_str.split('\\n')\n",
    "                    new_text_lines.extend(output_lines)\n",
    "\n",
    "    # Add 4 spaces to the start of each line\n",
    "    new_text_lines = ['    ' + line for line in new_text_lines]\n",
    "\n",
    "    # Join the lines back into a single string\n",
    "    new_text = '\\n'.join(new_text_lines)\n",
    "    return new_text\n"
   ]
  },
  {
   "cell_type": "code",
   "execution_count": 3,
   "metadata": {},
   "outputs": [
    {
     "name": "stdout",
     "output_type": "stream",
     "text": [
      "    >>> a = np.array([-1, 2, 3])\n",
      "    >>> b = np.array([4, -5, 6])\n",
      "    >>> np.linalg.outer(a, b)\n",
      "    array([[ -4,   5,  -6],\n",
      "           [  8, -10,  12],\n",
      "           [ 12, -15,  18]])\n"
     ]
    }
   ],
   "source": [
    "# Cells must start with a comment, see https://github.com/jupyterlab/jupyterlab/issues/16483\n",
    "text = \"\"\"\n",
    ">>> a = np.array([-1, 2, 3])\n",
    ">>> b = np.array([4, -5, 6])\n",
    ">>> np.linalg.outer(a, b)\n",
    "array([[ -4,   5,  6],\n",
    "       [  8, -10,  12],\n",
    "       [ 12, -15,  18]])\n",
    "\"\"\"\n",
    "\n",
    "correct_code = evaluated_code_block(text)\n",
    "print(correct_code)"
   ]
  },
  {
   "cell_type": "code",
   "execution_count": 4,
   "metadata": {},
   "outputs": [
    {
     "name": "stdout",
     "output_type": "stream",
     "text": [
      "    >>> eigenvalues, eigenvectors = np.linalg.eig(np.array([[2, 1], [1, 1]]))\n",
      "    >>> eigenvalues\n",
      "    array([2.61803399, 0.38196601])\n",
      "    >>> eigenvectors\n",
      "    array([[ 0.85065081, -0.52573111],\n",
      "           [ 0.52573111,  0.85065081]])\n"
     ]
    }
   ],
   "source": [
    "# Comment\n",
    "text = \"\"\"\n",
    ">>> eigenvalues, eigenvectors = np.linalg.eig(np.array([[2, 1], [1, 1]]))\n",
    ">>> eigenvalues\n",
    "array([2., 1.])\n",
    ">>> eigenvectors\n",
    "array([[0.70710678, 0.70710678],\n",
    "[0.70710678, -0.70710678]])\n",
    "\"\"\"\n",
    "\n",
    "# Process the text and print the output\n",
    "new_text = evaluated_code_block(text)\n",
    "print(new_text)\n"
   ]
  },
  {
   "cell_type": "code",
   "execution_count": null,
   "metadata": {},
   "outputs": [],
   "source": []
  }
 ],
 "metadata": {
  "kernelspec": {
   "display_name": "numpy-dev",
   "language": "python",
   "name": "python3"
  },
  "language_info": {
   "codemirror_mode": {
    "name": "ipython",
    "version": 3
   },
   "file_extension": ".py",
   "mimetype": "text/x-python",
   "name": "python",
   "nbconvert_exporter": "python",
   "pygments_lexer": "ipython3",
   "version": "3.11.9"
  }
 },
 "nbformat": 4,
 "nbformat_minor": 2
}
