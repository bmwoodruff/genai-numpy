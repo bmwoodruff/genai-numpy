{
 "cells": [
  {
   "cell_type": "code",
   "execution_count": null,
   "metadata": {},
   "outputs": [],
   "source": [
    "import re\n",
    "import numpy as np\n",
    "import textwrap\n",
    "import reviewtools as rt\n",
    "np.__version__"
   ]
  },
  {
   "cell_type": "code",
   "execution_count": null,
   "metadata": {},
   "outputs": [],
   "source": [
    "# Cells must start with a comment, see https://github.com/jupyterlab/jupyterlab/issues/16483\n",
    "text = \"\"\"\n",
    "    Basic correlation:\n",
    "\n",
    "    >>> a = np.array([1, 2, 3])\n",
    "    >>> v = np.array([0, 1, 0])\n",
    "    >>> np.ma.correlate(a, v)\n",
    "    masked_array(data=[4],\n",
    "                 mask=[False],\n",
    "           fill_value=999999)\n",
    "\n",
    "    Correlation with masked elements:\n",
    "\n",
    "    >>> a = np.ma.array([1, 2, 3], mask=[False, True, False])\n",
    "    >>> v = np.ma.array([0, 1, 0])\n",
    "    >>> np.ma.correlate(a, v)\n",
    "    masked_array(data=[-4-],\n",
    "                 mask=[ True],\n",
    "           fill_value=999999,\n",
    "                dtype=int64)\n",
    "\n",
    "    Correlation with different modes:\n",
    "\n",
    "    >>> a = np.array([1, 2, 3])\n",
    "    >>> v = np.ma.array([0, 1, 2], mask=[False, True, False])\n",
    "    >>> np.ma.correlate(a, v, mode='full', propagate_mask=False)\n",
    "    masked_array(data=[0, 1, 2, 3, 0],\n",
    "                 mask=[False, False, False, False, False],\n",
    "           fill_value=90867098999)\n",
    "\"\"\"\n",
    "\n",
    "print(rt.clean_and_process_text(text))\n"
   ]
  },
  {
   "cell_type": "code",
   "execution_count": null,
   "metadata": {},
   "outputs": [],
   "source": [
    "msg = \"\"\"\n",
    "DOC: Reviewed AI Gen examples\n",
    "\n",
    "I have reviewed the functions and ran the tests. Here are some changes that I made to improve the quality of the examples:\n",
    "- Added\n",
    "- More here. Lines can be really long but will be formatted properely because of the 72 limit checker.\n",
    "I don't have to add the proper skip message, because it's automatic.  Extra enters at the bottom also don't matter.\n",
    "\n",
    "\n",
    "\"\"\"\n",
    "\n",
    "print(rt.format_commit_message(msg))"
   ]
  }
 ],
 "nbformat": 4,
 "nbformat_minor": 2
}
