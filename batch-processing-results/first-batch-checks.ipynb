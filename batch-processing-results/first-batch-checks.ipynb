{
 "cells": [
  {
   "cell_type": "code",
   "execution_count": 5,
   "metadata": {},
   "outputs": [],
   "source": [
    "import re\n",
    "import numpy as np\n",
    "import textwrap"
   ]
  },
  {
   "cell_type": "code",
   "execution_count": 6,
   "metadata": {},
   "outputs": [
    {
     "data": {
      "text/plain": [
       "'2.1.0.dev0+git20240612.42ed34f'"
      ]
     },
     "execution_count": 6,
     "metadata": {},
     "output_type": "execute_result"
    }
   ],
   "source": [
    "np.__version__"
   ]
  },
  {
   "cell_type": "code",
   "execution_count": 7,
   "metadata": {},
   "outputs": [],
   "source": [
    "def generate_commit_message(mod,func,ai_string):\n",
    "    preamble_string = (f\"DOC: AI generated examples for np.{mod}.{func}\"\n",
    "    \"\\n\\n\"\n",
    "    \"These examples were created by AI and tested against a dev build of NumPy. AI's reasoning for these examples appears after the skip tags.\"\n",
    "    \"\\n\\n\"\n",
    "    \"[skip actions] [skip azp] [skip cirrus]\")\n",
    "\n",
    "\n",
    "    # Split the string by newlines\n",
    "    preamble_lines = preamble_string.splitlines()\n",
    "    ai_lines = ai_string.splitlines()\n",
    "\n",
    "    # Combine both lists into one\n",
    "    lines = preamble_lines + ai_lines\n",
    "\n",
    "    # Wrap each line separately\n",
    "    wrapped_lines = [textwrap.fill(line, width=72) for line in lines]\n",
    "\n",
    "    # Join the wrapped lines with newlines\n",
    "    wrapped_text = '\\n'.join(wrapped_lines)\n",
    "    return wrapped_text\n"
   ]
  },
  {
   "cell_type": "code",
   "execution_count": 8,
   "metadata": {},
   "outputs": [],
   "source": [
    "# Function to execute the commands and get the outputs\n",
    "def execute_code(code_lines):\n",
    "    # env = {'np': np}  # Preload the environment with `numpy` imported as `np`\n",
    "    outputs = []\n",
    "    for line in code_lines:\n",
    "        command = line.strip()\n",
    "        try:\n",
    "            # Check if the command is an assignment\n",
    "            if ' = ' in command:\n",
    "                exec(command) #, env)\n",
    "                outputs.append(None)  # No output for assignment commands\n",
    "            else:\n",
    "                result = eval(command) #, env)  # Evaluate the command if it's not an assignment\n",
    "                outputs.append(result)\n",
    "        except Exception as e:\n",
    "            outputs.append(f\"Error: {e}\")\n",
    "    return outputs\n",
    "\n",
    "def format_output(output):\n",
    "    if isinstance(output, np.ndarray):\n",
    "        return repr(output)\n",
    "    return repr(output)\n",
    "\n",
    "def evaluated_code_block(text):\n",
    "    # Trim white space at the start of each line\n",
    "    text = '\\n'.join(line.lstrip() for line in text.split('\\n'))\n",
    "\n",
    "    # Extract the code blocks\n",
    "    code_lines = re.findall(r'>>> (.*)', text)\n",
    "    outputs = execute_code(code_lines)\n",
    "\n",
    "    # Create the new text with actual outputs\n",
    "    new_text_lines = []\n",
    "    output_idx = 0\n",
    "    for line in text.split('\\n'):\n",
    "        if line.startswith('>>>'):\n",
    "            new_text_lines.append(line)\n",
    "            if output_idx < len(outputs):\n",
    "                output = outputs[output_idx]\n",
    "                output_idx += 1\n",
    "                if output is not None:  # Skip None outputs\n",
    "                    output_str = format_output(output)\n",
    "                    # Split output into multiple lines if necessary\n",
    "                    output_lines = output_str.split('\\n')\n",
    "                    new_text_lines.extend(output_lines)\n",
    "\n",
    "    # Add 4 spaces to the start of each line\n",
    "    new_text_lines = ['    ' + line for line in new_text_lines]\n",
    "\n",
    "    # Join the lines back into a single string\n",
    "    new_text = '\\n'.join(new_text_lines)\n",
    "    return new_text\n"
   ]
  },
  {
   "cell_type": "markdown",
   "metadata": {},
   "source": [
    "Outer"
   ]
  },
  {
   "cell_type": "code",
   "execution_count": 9,
   "metadata": {},
   "outputs": [
    {
     "name": "stdout",
     "output_type": "stream",
     "text": [
      "    >>> a = np.array([1, 2, 3])\n",
      "    >>> b = np.array([4, 5, 6])\n",
      "    >>> np.linalg.outer(a, b)\n",
      "    array([[ 4,  5,  6],\n",
      "           [ 8, 10, 12],\n",
      "           [12, 15, 18]])\n",
      "    >>> a = np.array([-1, 2, 3])\n",
      "    >>> b = np.array([4, -5, 6])\n",
      "    >>> np.linalg.outer(a, b)\n",
      "    array([[ -4,   5,  -6],\n",
      "           [  8, -10,  12],\n",
      "           [ 12, -15,  18]])\n"
     ]
    }
   ],
   "source": [
    "# Start cell with a comment to avoid Jupyter bug.\n",
    "text = \"\"\"\n",
    "    Simple outer product:\n",
    "\n",
    "    >>> a = np.array([1, 2, 3])\n",
    "    >>> b = np.array([4, 5, 6])\n",
    "    >>> np.linalg.outer(a, b)\n",
    "    array([[ 4,  5,  6],\n",
    "           [ 8, 10, 12],\n",
    "           [12, 15, 18]])\n",
    "\n",
    "    Outer product with negative numbers:\n",
    "\n",
    "    >>> a = np.array([-1, 2, 3])\n",
    "    >>> b = np.array([4, -5, 6])\n",
    "    >>> np.linalg.outer(a, b)\n",
    "    array([[ -4,   5,  6],\n",
    "           [  8, -10,  12],\n",
    "           [ 12, -15,  18]])\n",
    "\"\"\"\n",
    "\n",
    "correct_code = evaluated_code_block(text)\n",
    "print(correct_code)\n"
   ]
  },
  {
   "cell_type": "code",
   "execution_count": 10,
   "metadata": {},
   "outputs": [
    {
     "name": "stdout",
     "output_type": "stream",
     "text": [
      "DOC: AI generated examples for np.linalg.outer\n",
      "\n",
      "These examples were created by AI and tested against a dev build of\n",
      "NumPy. AI's reasoning for these examples appears after the skip tags.\n",
      "\n",
      "[skip actions] [skip azp] [skip cirrus]\n",
      "\n",
      "I decided to add these examples because they demonstrate the basic usage\n",
      "of the np.linalg.outer function and show how it handles positive and\n",
      "negative numbers. The first example is a simple demonstration of the\n",
      "outer product, while the second example shows that the function works\n",
      "correctly with negative numbers.\n",
      "\n",
      "I stopped adding examples because the existing examples cover the basic\n",
      "usage of the function, and additional examples would likely be redundant\n",
      "or too specific. The function is relatively simple, and the existing\n",
      "examples provide a good understanding of its behavior. Adding more\n",
      "examples would not significantly improve the documentation.\n"
     ]
    }
   ],
   "source": [
    "\n",
    "mod = 'linalg'\n",
    "func = 'outer'\n",
    "ai_string = \"\"\"\n",
    "I decided to add these examples because they demonstrate the basic usage of the np.linalg.outer function and show how it handles positive and negative numbers. The first example is a simple demonstration of the outer product, while the second example shows that the function works correctly with negative numbers.\n",
    "\n",
    "I stopped adding examples because the existing examples cover the basic usage of the function, and additional examples would likely be redundant or too specific. The function is relatively simple, and the existing examples provide a good understanding of its behavior. Adding more examples would not significantly improve the documentation.\n",
    "\"\"\"\n",
    "\n",
    "print(generate_commit_message(mod,func,ai_string))\n"
   ]
  },
  {
   "cell_type": "markdown",
   "metadata": {},
   "source": [
    "eig"
   ]
  },
  {
   "cell_type": "code",
   "execution_count": 48,
   "metadata": {},
   "outputs": [
    {
     "name": "stdout",
     "output_type": "stream",
     "text": [
      "    >>> A = np.array([[2, 1], [0, 2]])\n",
      "    >>> eigenvalues, eigenvectors = np.linalg.eig(A)\n",
      "    >>> eigenvalues\n",
      "    array([2., 2.])\n",
      "    >>> eigenvectors\n",
      "    array([[ 1.0000000e+00, -1.0000000e+00],\n",
      "           [ 0.0000000e+00,  4.4408921e-16]])\n",
      "    >>> A @ eigenvectors[:,0]\n",
      "    array([2., 0.])\n",
      "    >>> A @ eigenvectors[:,1]\n",
      "    array([-2.0000000e+00,  8.8817842e-16])\n"
     ]
    }
   ],
   "source": [
    "#Start cell with comment to avoid Jupyter bug\n",
    "from numpy import linalg as LA\n",
    "text = \"\"\"\n",
    "    Be careful when the matrix has repeated eigenvalues.\n",
    "\n",
    "    >>> A = np.array([[2, 1], [0, 2]])\n",
    "    >>> eigenvalues, eigenvectors = np.linalg.eig(A)\n",
    "    >>> eigenvalues\n",
    "    array([2., 1.])\n",
    "    >>> eigenvectors\n",
    "    array([[0.70710678, 0.70710678],\n",
    "           [0.70710678, -0.70710678]])\n",
    "    >>> A @ eigenvectors[:,0]\n",
    "    >>> A @ eigenvectors[:,1]\n",
    "    \n",
    "\"\"\"\n",
    "\n",
    "correct_code = evaluated_code_block(text)\n",
    "print(correct_code)\n"
   ]
  },
  {
   "cell_type": "code",
   "execution_count": 44,
   "metadata": {},
   "outputs": [
    {
     "name": "stdout",
     "output_type": "stream",
     "text": [
      "DOC: AI generated examples for np.linalg.eig\n",
      "\n",
      "These examples were created by AI and tested against a dev build of\n",
      "NumPy. AI's reasoning for these examples appears after the skip tags.\n",
      "\n",
      "[skip actions] [skip azp] [skip cirrus]\n",
      "\n",
      "I decided to add an example to illustrate the case where the matrix has\n",
      "repeated eigenvalues. This is an important scenario that may not be\n",
      "immediately clear to users, and providing an example can help clarify\n",
      "the behavior of the `eig` function in this case.\n",
      "\n",
      "I stopped after adding one example because the existing examples already\n",
      "cover a wide range of scenarios, including real and complex matrices,\n",
      "Hermitian matrices, and the importance of considering round-off error.\n",
      "The additional example I provided helps to further illustrate the\n",
      "behavior of the `eig` function, but it is not necessary to add more\n",
      "examples at this point. The existing examples, along with the new one,\n",
      "provide a comprehensive understanding of the `eig` function. If more\n",
      "examples were needed, they would likely involve more complex or edge\n",
      "cases, such as non-square matrices or matrices with very large or very\n",
      "small eigenvalues. However, these cases are unlikely to be common use\n",
      "cases for the `eig` function, and the existing examples are sufficient\n",
      "for most users.\n"
     ]
    }
   ],
   "source": [
    "func = 'eig'\n",
    "ai_string = \"\"\"\n",
    "I decided to add an example to illustrate the case where the matrix has repeated eigenvalues. This is an important scenario that may not be immediately clear to users, and providing an example can help clarify the behavior of the `eig` function in this case.\n",
    "\n",
    "I stopped after adding one example because the existing examples already cover a wide range of scenarios, including real and complex matrices, Hermitian matrices, and the importance of considering round-off error. The additional example I provided helps to further illustrate the behavior of the `eig` function, but it is not necessary to add more examples at this point. The existing examples, along with the new one, provide a comprehensive understanding of the `eig` function. If more examples were needed, they would likely involve more complex or edge cases, such as non-square matrices or matrices with very large or very small eigenvalues. However, these cases are unlikely to be common use cases for the `eig` function, and the existing examples are sufficient for most users.\n",
    "\"\"\"\n",
    "\n",
    "print(generate_commit_message(mod,func,ai_string))\n",
    "\n"
   ]
  },
  {
   "cell_type": "markdown",
   "metadata": {},
   "source": [
    "svd"
   ]
  },
  {
   "cell_type": "code",
   "execution_count": 53,
   "metadata": {},
   "outputs": [
    {
     "name": "stdout",
     "output_type": "stream",
     "text": [
      "    >>> rng = np.random.default_rng()\n",
      "    >>> a = rng.normal(size=(9, 9)) + 1j*rng.normal(size=(9, 9))\n",
      "    >>> U, S, Vh = np.linalg.svd(a, hermitian=True)\n",
      "    >>> U.shape, S.shape, Vh.shape\n",
      "    ((9, 9), (9,), (9, 9))\n",
      "    >>> np.allclose(a, np.dot(U, np.dot(np.diag(S), Vh)))\n",
      "    False\n",
      "    >>> a = rng.normal(size=(9, 9)) + 1j*rng.normal(size=(9, 9))\n",
      "    >>> U, S, Vh = np.linalg.svd(a, hermitian=True)\n",
      "    >>> U.shape, S.shape, Vh.shape\n",
      "    ((9, 9), (9,), (9, 9))\n",
      "    >>> np.allclose(a, np.dot(U[:, :9] * S, Vh))\n",
      "    False\n",
      "    >>> smat = np.zeros((9, 9), dtype=complex)\n",
      "    >>> smat[:9, :9] = np.diag(S)\n",
      "    >>> np.allclose(a, np.dot(U, np.dot(smat, Vh)))\n",
      "    False\n",
      "    >>> a = rng.normal(size=(9, 9)) + 1j*rng.normal(size=(9, 9))\n",
      "    >>> herm = a.T.conj() @ a\n",
      "    >>> U, S, Vh = np.linalg.svd(herm, hermitian=True)\n",
      "    >>> U.shape, S.shape, Vh.shape\n",
      "    ((9, 9), (9,), (9, 9))\n",
      "    >>> np.allclose(herm, U @ np.diag(S) @ Vh)\n",
      "    True\n"
     ]
    }
   ],
   "source": [
    "#Start cell with comment to avoid Jupyter bug\n",
    "text = \"\"\"\n",
    "    >>> rng = np.random.default_rng()\n",
    "\n",
    "    Using hermitian flag:\n",
    "\n",
    "    >>> a = rng.normal(size=(9, 9)) + 1j*rng.normal(size=(9, 9))\n",
    "    >>> U, S, Vh = np.linalg.svd(a, hermitian=True)\n",
    "    >>> U.shape, S.shape, Vh.shape\n",
    "    ((9, 9), (9,), (9, 9))\n",
    "    >>> np.allclose(a, np.dot(U, np.dot(np.diag(S), Vh)))\n",
    "    True\n",
    "\n",
    "    Using hermitian flag:\n",
    "\n",
    "    >>> a = rng.normal(size=(9, 9)) + 1j*rng.normal(size=(9, 9))\n",
    "    >>> U, S, Vh = np.linalg.svd(a, hermitian=True)\n",
    "    >>> U.shape, S.shape, Vh.shape\n",
    "    ((9, 9), (9,), (9, 9))\n",
    "    >>> np.allclose(a, np.dot(U[:, :9] * S, Vh))\n",
    "    True\n",
    "    >>> smat = np.zeros((9, 9), dtype=complex)\n",
    "    >>> smat[:9, :9] = np.diag(S)\n",
    "    >>> np.allclose(a, np.dot(U, np.dot(smat, Vh)))\n",
    "    True\n",
    "\n",
    "\n",
    "    >>> a = rng.normal(size=(9, 9)) + 1j*rng.normal(size=(9, 9))\n",
    "    >>> herm = a.T.conj() @ a\n",
    "    >>> U, S, Vh = np.linalg.svd(herm, hermitian=True)\n",
    "    >>> U.shape, S.shape, Vh.shape\n",
    "    ((9, 9), (9,), (9, 9))\n",
    "    >>> np.allclose(herm, U @ np.diag(S) @ Vh)\n",
    "    False\n",
    "\n",
    "\"\"\"\n",
    "\n",
    "correct_code = evaluated_code_block(text)\n",
    "print(correct_code)\n"
   ]
  },
  {
   "cell_type": "code",
   "execution_count": 14,
   "metadata": {},
   "outputs": [
    {
     "name": "stdout",
     "output_type": "stream",
     "text": [
      "DOC: AI generated examples for np.linalg.svd\n",
      "\n",
      "These examples were created by AI and tested against a dev build of\n",
      "NumPy. AI's reasoning for these examples appears after the skip tags.\n",
      "\n",
      "[skip actions] [skip azp] [skip cirrus]\n",
      "\n",
      "I decided to add an example for using the `hermitian` flag, which\n",
      "demonstrates how to use this feature to take advantage of the symmetry\n",
      "of the input matrix. This example shows how to use the `hermitian` flag\n",
      "to improve the efficiency of the SVD computation when the input matrix\n",
      "is Hermitian (symmetric if real-valued).\n",
      "\n",
      "I stopped adding examples because the existing examples already cover\n",
      "the main use cases of the `svd` function, including 2D and 4D cases,\n",
      "full and reduced SVD, and reconstruction of the original matrix. The\n",
      "additional example I added provides further insight into the usage of\n",
      "the `hermitian` flag, which is an important feature of the `svd`\n",
      "function. Adding more examples would likely be redundant and may make\n",
      "the documentation harder to read. Instead, it's better to focus on\n",
      "making the existing examples clear and concise.\n"
     ]
    }
   ],
   "source": [
    "func = 'svd'\n",
    "ai_string = \"\"\"\n",
    "I decided to add an example for using the `hermitian` flag, which demonstrates how to use this feature to take advantage of the symmetry of the input matrix. This example shows how to use the `hermitian` flag to improve the efficiency of the SVD computation when the input matrix is Hermitian (symmetric if real-valued).\n",
    "\n",
    "I stopped adding examples because the existing examples already cover the main use cases of the `svd` function, including 2D and 4D cases, full and reduced SVD, and reconstruction of the original matrix. The additional example I added provides further insight into the usage of the `hermitian` flag, which is an important feature of the `svd` function. Adding more examples would likely be redundant and may make the documentation harder to read. Instead, it's better to focus on making the existing examples clear and concise.\n",
    "\"\"\"\n",
    "\n",
    "print(generate_commit_message(mod,func,ai_string))\n",
    "\n"
   ]
  },
  {
   "cell_type": "markdown",
   "metadata": {},
   "source": [
    "svdvals"
   ]
  },
  {
   "cell_type": "code",
   "execution_count": 54,
   "metadata": {},
   "outputs": [],
   "source": [
    "func = 'svdvals'\n",
    "\n",
    "text = \"\"\"\n",
    "    Examples\n",
    "    --------\n",
    "    Single matrix singular values:\n",
    "    >>> rng = np.random.default_rng()\n",
    "    >>> x = rng.random(size=(3, 3))\n",
    "    >>> s = np.linalg.svdvals(x)\n",
    "    >>> s.shape\n",
    "    (3,)\n",
    "    Multiple matrix singular values:\n",
    "    >>> x = rng.random(size=(2, 3, 3))\n",
    "    >>> s = np.linalg.svdvals(x)\n",
    "    >>> s.shape\n",
    "    (2, 3)\n",
    "    Real matrix singular values:\n",
    "    >>> x = np.array([[1, 0, 0], [0, 2, 0], [0, 0, 3]])\n",
    "    >>> s = np.linalg.svdvals(x)\n",
    "    >>> s\n",
    "    array([3., 2., 1.])\n",
    "\"\"\"\n",
    "\n",
    "ai_string = \"\"\"\n",
    "I decided to add these examples because they illustrate different use cases of the `svdvals` function. The first example shows how to compute the singular values of a single matrix. The second example demonstrates how to compute the singular values of multiple matrices stacked together. The third example provides a simple, intuitive example of computing singular values of a real matrix.\n",
    "\"\"\""
   ]
  },
  {
   "cell_type": "code",
   "execution_count": 55,
   "metadata": {},
   "outputs": [
    {
     "name": "stdout",
     "output_type": "stream",
     "text": [
      "    >>> rng = np.random.default_rng()\n",
      "    >>> x = rng.random(size=(3, 3))\n",
      "    >>> s = np.linalg.svdvals(x)\n",
      "    >>> s.shape\n",
      "    (3,)\n",
      "    >>> x = rng.random(size=(2, 3, 3))\n",
      "    >>> s = np.linalg.svdvals(x)\n",
      "    >>> s.shape\n",
      "    (2, 3)\n",
      "    >>> x = np.array([[1, 0, 0], [0, 2, 0], [0, 0, 3]])\n",
      "    >>> s = np.linalg.svdvals(x)\n",
      "    >>> s\n",
      "    array([3., 2., 1.])\n"
     ]
    }
   ],
   "source": [
    "correct_code = evaluated_code_block(text)\n",
    "print(correct_code)"
   ]
  },
  {
   "cell_type": "code",
   "execution_count": 17,
   "metadata": {},
   "outputs": [
    {
     "name": "stdout",
     "output_type": "stream",
     "text": [
      "DOC: AI generated examples for np.linalg.svdvals\n",
      "\n",
      "These examples were created by AI and tested against a dev build of\n",
      "NumPy. AI's reasoning for these examples appears after the skip tags.\n",
      "\n",
      "[skip actions] [skip azp] [skip cirrus]\n",
      "\n",
      "I decided to add these examples because they illustrate different use\n",
      "cases of the `svdvals` function. The first example shows how to compute\n",
      "the singular values of a single matrix. The second example demonstrates\n",
      "how to compute the singular values of multiple matrices stacked\n",
      "together. The third example provides a simple, intuitive example of\n",
      "computing singular values of a real matrix.\n"
     ]
    }
   ],
   "source": [
    "print(generate_commit_message(mod,func,ai_string))"
   ]
  },
  {
   "cell_type": "markdown",
   "metadata": {},
   "source": [
    "matrix_rank"
   ]
  },
  {
   "cell_type": "code",
   "execution_count": 18,
   "metadata": {},
   "outputs": [],
   "source": [
    "func = 'matrix_rank'\n",
    "from numpy.linalg import matrix_rank\n",
    "text = \"\"\"\n",
    "    >>> matrix_rank(np.eye(4)) # Full rank matrix\n",
    "    4\n",
    "    >>> I=np.eye(4); I[-1,-1] = 0. # rank deficient matrix\n",
    "    >>> matrix_rank(I)\n",
    "    3\n",
    "    >>> matrix_rank(np.ones((4,))) # 1 dimension - rank 1 unless all 0\n",
    "    1\n",
    "    >>> matrix_rank(np.zeros((4,)))\n",
    "    0\n",
    "\n",
    "    Matrix with complex numbers:\n",
    "    \n",
    "    >>> A = np.array([[1+1j, 2+2j], [3+3j, 4+4j]])\n",
    "    >>> matrix_rank(A)\n",
    "    2\n",
    "\"\"\"\n",
    "\n",
    "ai_string = \"\"\"\n",
    "I decided to add an example with a complex matrix because the function can handle complex input arrays, but there was no example showing this. This example demonstrates that the function works correctly with complex numbers.\n",
    "\"\"\""
   ]
  },
  {
   "cell_type": "code",
   "execution_count": 19,
   "metadata": {},
   "outputs": [
    {
     "name": "stdout",
     "output_type": "stream",
     "text": [
      "    >>> matrix_rank(np.eye(4)) # Full rank matrix\n",
      "    np.int64(4)\n",
      "    >>> I=np.eye(4); I[-1,-1] = 0. # rank deficient matrix\n",
      "    >>> matrix_rank(I)\n",
      "    np.int64(3)\n",
      "    >>> matrix_rank(np.ones((4,))) # 1 dimension - rank 1 unless all 0\n",
      "    1\n",
      "    >>> matrix_rank(np.zeros((4,)))\n",
      "    0\n",
      "    >>> A = np.array([[1+1j, 2+2j], [3+3j, 4+4j]])\n",
      "    >>> matrix_rank(A)\n",
      "    np.int64(2)\n"
     ]
    }
   ],
   "source": [
    "correct_code = evaluated_code_block(text)\n",
    "print(correct_code)"
   ]
  },
  {
   "cell_type": "code",
   "execution_count": 20,
   "metadata": {},
   "outputs": [
    {
     "name": "stdout",
     "output_type": "stream",
     "text": [
      "DOC: AI generated examples for np.linalg.matrix_rank\n",
      "\n",
      "These examples were created by AI and tested against a dev build of\n",
      "NumPy. AI's reasoning for these examples appears after the skip tags.\n",
      "\n",
      "[skip actions] [skip azp] [skip cirrus]\n",
      "\n",
      "I decided to add an example with a complex matrix because the function\n",
      "can handle complex input arrays, but there was no example showing this.\n",
      "This example demonstrates that the function works correctly with complex\n",
      "numbers.\n"
     ]
    }
   ],
   "source": [
    "print(generate_commit_message(mod,func,ai_string))"
   ]
  },
  {
   "cell_type": "code",
   "execution_count": 21,
   "metadata": {},
   "outputs": [
    {
     "data": {
      "text/plain": [
       "np.int64(4)"
      ]
     },
     "execution_count": 21,
     "metadata": {},
     "output_type": "execute_result"
    }
   ],
   "source": [
    "np.linalg.matrix_rank(np.eye(4)) # Full rank matrix"
   ]
  },
  {
   "cell_type": "code",
   "execution_count": 22,
   "metadata": {},
   "outputs": [
    {
     "data": {
      "text/plain": [
       "1"
      ]
     },
     "execution_count": 22,
     "metadata": {},
     "output_type": "execute_result"
    }
   ],
   "source": [
    "np.linalg.matrix_rank(np.ones((4,))) # 1 dimension - rank 1 unless all 0"
   ]
  },
  {
   "cell_type": "markdown",
   "metadata": {},
   "source": [
    "det"
   ]
  },
  {
   "cell_type": "code",
   "execution_count": 23,
   "metadata": {},
   "outputs": [],
   "source": [
    "func = 'det'\n",
    "\n",
    "text = \"\"\"\n",
    "    >>> a = np.array([[1, 2], [3, 4]])\n",
    "    >>> np.linalg.det(a)\n",
    "    -2.0 # may vary\n",
    "\n",
    "    Computing determinants for a stack of matrices:\n",
    "\n",
    "    >>> a = np.array([ [[1, 2], [3, 4]], [[1, 2], [2, 1]], [[1, 3], [3, 1]] ])\n",
    "    >>> a.shape\n",
    "    (3, 2, 2)\n",
    "    >>> np.linalg.det(a)\n",
    "    array([-2., -3., -8.])\n",
    "\n",
    "\n",
    "    Zero determinant for a singular matrix:\n",
    "    >>> a = np.array([[1, 0], [0, 0]])\n",
    "    >>> np.linalg.det(a)\n",
    "    0.0 # may vary\n",
    "\"\"\"\n",
    "\n",
    "ai_string = \"\"\"\n",
    "I decided to add an example to show the case where the input matrix is singular (i.e., its determinant is zero). This is an important edge case that users should be aware of.\n",
    "\"\"\""
   ]
  },
  {
   "cell_type": "code",
   "execution_count": 24,
   "metadata": {},
   "outputs": [
    {
     "name": "stdout",
     "output_type": "stream",
     "text": [
      "    >>> a = np.array([[1, 2], [3, 4]])\n",
      "    >>> np.linalg.det(a)\n",
      "    np.float64(-2.0000000000000004)\n",
      "    >>> a = np.array([ [[1, 2], [3, 4]], [[1, 2], [2, 1]], [[1, 3], [3, 1]] ])\n",
      "    >>> a.shape\n",
      "    (3, 2, 2)\n",
      "    >>> np.linalg.det(a)\n",
      "    array([-2., -3., -8.])\n",
      "    >>> a = np.array([[1, 0], [0, 0]])\n",
      "    >>> np.linalg.det(a)\n",
      "    np.float64(0.0)\n"
     ]
    }
   ],
   "source": [
    "correct_code = evaluated_code_block(text)\n",
    "print(correct_code)"
   ]
  },
  {
   "cell_type": "code",
   "execution_count": 25,
   "metadata": {},
   "outputs": [
    {
     "name": "stdout",
     "output_type": "stream",
     "text": [
      "DOC: AI generated examples for np.linalg.det\n",
      "\n",
      "These examples were created by AI and tested against a dev build of\n",
      "NumPy. AI's reasoning for these examples appears after the skip tags.\n",
      "\n",
      "[skip actions] [skip azp] [skip cirrus]\n",
      "\n",
      "I decided to add an example to show the case where the input matrix is\n",
      "singular (i.e., its determinant is zero). This is an important edge case\n",
      "that users should be aware of.\n"
     ]
    }
   ],
   "source": [
    "print(generate_commit_message(mod,func,ai_string))"
   ]
  },
  {
   "cell_type": "markdown",
   "metadata": {},
   "source": [
    "multi_dot"
   ]
  },
  {
   "cell_type": "code",
   "execution_count": 26,
   "metadata": {},
   "outputs": [],
   "source": [
    "func = 'multi_dot'\n",
    "from numpy.linalg import multi_dot\n",
    "\n",
    "text = \"\"\"\n",
    "\n",
    "    >>> A = np.random.random((10000, 100))\n",
    "    >>> B = np.random.random((100, 1000))\n",
    "    >>> C = np.random.random((1000, 5))\n",
    "    >>> D = np.random.random((5, 333))\n",
    "    >>> _ = multi_dot([A, B, C, D])\n",
    "\n",
    "    Using multi_dot with 1-D arrays:\n",
    "    >>> a = np.random.random((10,))\n",
    "    >>> b = np.random.random((10,))\n",
    "    >>> c = np.random.random((10,))\n",
    "    >>> d = np.random.random((10,))\n",
    "    >>>\n",
    "    >>> _ = multi_dot([a, b, c, d])\n",
    "\"\"\"\n",
    "\n",
    "ai_string = \"\"\"\n",
    "I decided to add an example to show how `multi_dot` can be used with 1-D arrays, as this is a specific case mentioned in the documentation. This example helps to clarify how `multi_dot` treats 1-D arrays as row or column vectors.\n",
    "\"\"\""
   ]
  },
  {
   "cell_type": "markdown",
   "metadata": {},
   "source": [
    "Example is trash. Delete it."
   ]
  },
  {
   "cell_type": "code",
   "execution_count": 27,
   "metadata": {},
   "outputs": [
    {
     "name": "stdout",
     "output_type": "stream",
     "text": [
      "    >>> A = np.random.random((10000, 100))\n",
      "    >>> B = np.random.random((100, 1000))\n",
      "    >>> C = np.random.random((1000, 5))\n",
      "    >>> D = np.random.random((5, 333))\n",
      "    >>> _ = multi_dot([A, B, C, D])\n",
      "    >>> a = np.random.random((10,))\n",
      "    >>> b = np.random.random((10,))\n",
      "    >>> c = np.random.random((10,))\n",
      "    >>> d = np.random.random((10,))\n",
      "    >>>\n",
      "    'Error: 1-dimensional array given. Array must be two-dimensional'\n",
      "    >>> _ = multi_dot([a, b, c, d])\n"
     ]
    }
   ],
   "source": [
    "correct_code = evaluated_code_block(text)\n",
    "print(correct_code)"
   ]
  },
  {
   "cell_type": "code",
   "execution_count": 28,
   "metadata": {},
   "outputs": [
    {
     "name": "stdout",
     "output_type": "stream",
     "text": [
      "DOC: AI generated examples for np.linalg.multi_dot\n",
      "\n",
      "These examples were created by AI and tested against a dev build of\n",
      "NumPy. AI's reasoning for these examples appears after the skip tags.\n",
      "\n",
      "[skip actions] [skip azp] [skip cirrus]\n",
      "\n",
      "I decided to add an example to show how `multi_dot` can be used with 1-D\n",
      "arrays, as this is a specific case mentioned in the documentation. This\n",
      "example helps to clarify how `multi_dot` treats 1-D arrays as row or\n",
      "column vectors.\n"
     ]
    }
   ],
   "source": [
    "print(generate_commit_message(mod,func,ai_string))"
   ]
  },
  {
   "cell_type": "markdown",
   "metadata": {},
   "source": [
    "trace"
   ]
  },
  {
   "cell_type": "code",
   "execution_count": 69,
   "metadata": {},
   "outputs": [],
   "source": [
    "func = 'trace'\n",
    "\n",
    "text = \"\"\"\n",
    "    Examples\n",
    "    --------\n",
    "    Computing the main diagonal trace:\n",
    "    >>> x = np.array([[1, 2], [3, 4]])\n",
    "    >>> np.linalg.trace(x)\n",
    "    5\n",
    "    Computing the trace of a stack of matrices:\n",
    "    >>> x = np.array([[[1, 2], [3, 4]], [[5, 6], [7, 8]]])\n",
    "    >>> np.linalg.trace(x)\n",
    "    array([5, 13])\n",
    "    Computing the trace of a 3D array:\n",
    "    >>> x = np.arange(16).reshape((2,2,2,2))\n",
    "    >>> np.linalg.trace(x)\n",
    "    array([[ 5, 13], [29, 41]])\n",
    "    >>> x\n",
    "    Computing the trace with a specific data type:\n",
    "    >>> x = np.array([[1, 2], [3, 4]])\n",
    "    >>> np.linalg.trace(x, dtype=float)\n",
    "    5.0    \n",
    "\"\"\"\n",
    "\n",
    "ai_string = \"\"\"\n",
    "I decided to add these examples because they demonstrate different use cases of the `np.linalg.trace` function, such as computing the main diagonal trace, the trace of a stack of matrices, the trace of a 3D array, and the trace with a specific data type. These examples help to illustrate the flexibility and functionality of the `np.linalg.trace` function.\n",
    "\"\"\""
   ]
  },
  {
   "cell_type": "code",
   "execution_count": 70,
   "metadata": {},
   "outputs": [
    {
     "name": "stdout",
     "output_type": "stream",
     "text": [
      "    >>> x = np.array([[1, 2], [3, 4]])\n",
      "    >>> np.linalg.trace(x)\n",
      "    np.int64(5)\n",
      "    >>> x = np.array([[[1, 2], [3, 4]], [[5, 6], [7, 8]]])\n",
      "    >>> np.linalg.trace(x)\n",
      "    array([ 5, 13])\n",
      "    >>> x = np.arange(16).reshape((2,2,2,2))\n",
      "    >>> np.linalg.trace(x)\n",
      "    array([[ 3, 11],\n",
      "           [19, 27]])\n",
      "    >>> x\n",
      "    array([[[[ 0,  1],\n",
      "             [ 2,  3]],\n",
      "    \n",
      "            [[ 4,  5],\n",
      "             [ 6,  7]]],\n",
      "    \n",
      "    \n",
      "           [[[ 8,  9],\n",
      "             [10, 11]],\n",
      "    \n",
      "            [[12, 13],\n",
      "             [14, 15]]]])\n",
      "    >>> x = np.array([[1, 2], [3, 4]])\n",
      "    >>> np.linalg.trace(x, dtype=float)\n",
      "    np.float64(5.0)\n"
     ]
    }
   ],
   "source": [
    "correct_code = evaluated_code_block(text)\n",
    "print(correct_code)"
   ]
  },
  {
   "cell_type": "code",
   "execution_count": 68,
   "metadata": {},
   "outputs": [
    {
     "data": {
      "text/plain": [
       "array([[[[ 0,  1],\n",
       "         [ 2,  3]],\n",
       "\n",
       "        [[ 4,  5],\n",
       "         [ 6,  7]]],\n",
       "\n",
       "\n",
       "       [[[ 8,  9],\n",
       "         [10, 11]],\n",
       "\n",
       "        [[12, 13],\n",
       "         [14, 15]]]])"
      ]
     },
     "execution_count": 68,
     "metadata": {},
     "output_type": "execute_result"
    }
   ],
   "source": [
    "    >>> x = np.arange(16).reshape((2,2,2,2))\n",
    "    >>> np.linalg.trace(x)\n",
    "x\n"
   ]
  },
  {
   "cell_type": "code",
   "execution_count": 32,
   "metadata": {},
   "outputs": [
    {
     "name": "stdout",
     "output_type": "stream",
     "text": [
      "DOC: AI generated examples for np.linalg.trace\n",
      "\n",
      "These examples were created by AI and tested against a dev build of\n",
      "NumPy. AI's reasoning for these examples appears after the skip tags.\n",
      "\n",
      "[skip actions] [skip azp] [skip cirrus]\n",
      "\n",
      "I decided to add these examples because they demonstrate different use\n",
      "cases of the `np.linalg.trace` function, such as computing the main\n",
      "diagonal trace, the trace of a stack of matrices, the trace of a 3D\n",
      "array, and the trace with a specific data type. These examples help to\n",
      "illustrate the flexibility and functionality of the `np.linalg.trace`\n",
      "function.\n"
     ]
    }
   ],
   "source": [
    "print(generate_commit_message(mod,func,ai_string))"
   ]
  },
  {
   "cell_type": "markdown",
   "metadata": {},
   "source": [
    "matmul"
   ]
  },
  {
   "cell_type": "code",
   "execution_count": 33,
   "metadata": {},
   "outputs": [],
   "source": [
    "func = 'matmul'\n",
    "\n",
    "text = \"\"\"\n",
    "    Examples\n",
    "    --------\n",
    "    Matrix multiplication:\n",
    "    >>> np.linalg.matmul([[1, 2], [3, 4]], [[5, 6], [7, 8]])\n",
    "    [[19 22],\n",
    "    [43 50]]\n",
    "    Matrix-vector multiplication:\n",
    "    >>> np.linalg.matmul([[1, 2], [3, 4]], [5, 6])\n",
    "    [17 39]\n",
    "    Vector-vector multiplication:\n",
    "    >>> np.linalg.matmul([1, 2], [3, 4])\n",
    "    11\n",
    "    Matrix-matrix multiplication with 3D arrays:\n",
    "    >>> x1 = np.array([[[1, 2], [3, 4]], [[5, 6], [7, 8]]])\n",
    "    >>> x2 = np.array([[[9, 10], [11, 12]], [[13, 14], [15, 16]]])\n",
    "    >>> np.linalg.matmul(x1, x2)\n",
    "    [[[57 64],\n",
    "    [79  88]],\n",
    "    [[165 184],\n",
    "    [197 224]]]\n",
    "\"\"\"\n",
    "\n",
    "ai_string = \"\"\"\n",
    "I decided to add these examples because they demonstrate different use cases of the `matmul` function, such as matrix-matrix multiplication, matrix-vector multiplication, and vector-vector multiplication. I also added an example with 3D arrays to show how the function handles higher-dimensional inputs.\n",
    "\"\"\""
   ]
  },
  {
   "cell_type": "code",
   "execution_count": 34,
   "metadata": {},
   "outputs": [
    {
     "name": "stdout",
     "output_type": "stream",
     "text": [
      "    >>> np.linalg.matmul([[1, 2], [3, 4]], [[5, 6], [7, 8]])\n",
      "    array([[19, 22],\n",
      "           [43, 50]])\n",
      "    >>> np.linalg.matmul([[1, 2], [3, 4]], [5, 6])\n",
      "    array([17, 39])\n",
      "    >>> np.linalg.matmul([1, 2], [3, 4])\n",
      "    np.int64(11)\n",
      "    >>> x1 = np.array([[[1, 2], [3, 4]], [[5, 6], [7, 8]]])\n",
      "    >>> x2 = np.array([[[9, 10], [11, 12]], [[13, 14], [15, 16]]])\n",
      "    >>> np.linalg.matmul(x1, x2)\n",
      "    array([[[ 31,  34],\n",
      "            [ 71,  78]],\n",
      "    \n",
      "           [[155, 166],\n",
      "            [211, 226]]])\n"
     ]
    }
   ],
   "source": [
    "correct_code = evaluated_code_block(text)\n",
    "print(correct_code)"
   ]
  },
  {
   "cell_type": "code",
   "execution_count": 35,
   "metadata": {},
   "outputs": [
    {
     "name": "stdout",
     "output_type": "stream",
     "text": [
      "DOC: AI generated examples for np.linalg.matmul\n",
      "\n",
      "These examples were created by AI and tested against a dev build of\n",
      "NumPy. AI's reasoning for these examples appears after the skip tags.\n",
      "\n",
      "[skip actions] [skip azp] [skip cirrus]\n",
      "\n",
      "I decided to add these examples because they demonstrate different use\n",
      "cases of the `matmul` function, such as matrix-matrix multiplication,\n",
      "matrix-vector multiplication, and vector-vector multiplication. I also\n",
      "added an example with 3D arrays to show how the function handles higher-\n",
      "dimensional inputs.\n"
     ]
    }
   ],
   "source": [
    "print(generate_commit_message(mod,func,ai_string))"
   ]
  },
  {
   "cell_type": "markdown",
   "metadata": {},
   "source": [
    "vecdot"
   ]
  },
  {
   "cell_type": "code",
   "execution_count": 36,
   "metadata": {},
   "outputs": [],
   "source": [
    "func = 'vecdot'\n",
    "\n",
    "text = \"\"\"\n",
    "    Examples\n",
    "    --------\n",
    "\n",
    "    Dot product of two 1-D arrays:\n",
    "\n",
    "    >>> a = np.array([1, 2, 3])\n",
    "    >>> b = np.array([4, 5, 6])\n",
    "    >>> np.linalg.vecdot(a, b)\n",
    "    32\n",
    "\n",
    "    Dot product of two 2-D arrays along the last axis:\n",
    "\n",
    "    >>> a = np.array([[1, 2], [3, 4]])\n",
    "    >>> b = np.array([[5, 6], [7, 8]])\n",
    "    >>> np.linalg.vecdot(a, b, axis=-1)\n",
    "    array([17, 53])\n",
    "\n",
    "    Dot product of two complex vectors:\n",
    "\n",
    "    >>> a = np.array([1 + 2j, 3 + 4j])\n",
    "    >>> b = np.array([5 + 6j, 7 + 8j])\n",
    "    >>> np.linalg.vecdot(a, b)\n",
    "    (26+64j)\n",
    "\n",
    "\"\"\"\n",
    "\n",
    "ai_string = \"\"\"\n",
    "I decided to add these examples because they demonstrate different use cases of the `vecdot` function, such as computing the dot product of 1-D arrays, 2-D arrays along a specific axis, and complex vectors. These examples will help users understand how to use the function in various scenarios.\n",
    "\"\"\""
   ]
  },
  {
   "cell_type": "code",
   "execution_count": 37,
   "metadata": {},
   "outputs": [
    {
     "name": "stdout",
     "output_type": "stream",
     "text": [
      "    >>> a = np.array([1, 2, 3])\n",
      "    >>> b = np.array([4, 5, 6])\n",
      "    >>> np.linalg.vecdot(a, b)\n",
      "    np.int64(32)\n",
      "    >>> a = np.array([[1, 2], [3, 4]])\n",
      "    >>> b = np.array([[5, 6], [7, 8]])\n",
      "    >>> np.linalg.vecdot(a, b, axis=-1)\n",
      "    array([17, 53])\n",
      "    >>> a = np.array([1 + 2j, 3 + 4j])\n",
      "    >>> b = np.array([5 + 6j, 7 + 8j])\n",
      "    >>> np.linalg.vecdot(a, b)\n",
      "    np.complex128(70-8j)\n"
     ]
    }
   ],
   "source": [
    "correct_code = evaluated_code_block(text)\n",
    "print(correct_code)"
   ]
  },
  {
   "cell_type": "code",
   "execution_count": 38,
   "metadata": {},
   "outputs": [
    {
     "name": "stdout",
     "output_type": "stream",
     "text": [
      "DOC: AI generated examples for np.linalg.vecdot\n",
      "\n",
      "These examples were created by AI and tested against a dev build of\n",
      "NumPy. AI's reasoning for these examples appears after the skip tags.\n",
      "\n",
      "[skip actions] [skip azp] [skip cirrus]\n",
      "\n",
      "I decided to add these examples because they demonstrate different use\n",
      "cases of the `vecdot` function, such as computing the dot product of 1-D\n",
      "arrays, 2-D arrays along a specific axis, and complex vectors. These\n",
      "examples will help users understand how to use the function in various\n",
      "scenarios.\n"
     ]
    }
   ],
   "source": [
    "print(generate_commit_message(mod,func,ai_string))"
   ]
  },
  {
   "cell_type": "code",
   "execution_count": 73,
   "metadata": {},
   "outputs": [
    {
     "name": "stdout",
     "output_type": "stream",
     "text": [
      "DOC: AI generated examples for multiple functions in linalg\n",
      "\n",
      "These examples were originally created by AI, and then adapted and\n",
      "updated as needed through human review.\n",
      "\n",
      "The functions with new examples are `outer`, `eig`, `svd`, `svdvals`,\n",
      "`matrix_rank`, `trace`, `matmul`, `vecdot`.\n",
      "\n",
      "[skip actions] [skip azp] [skip cirrus]\n"
     ]
    }
   ],
   "source": [
    "message = \"\"\"DOC: AI generated examples for multiple functions in linalg\n",
    "\n",
    "These examples were originally created by AI, and then adapted and updated as needed through human review.\n",
    "\n",
    "The functions with new examples are `outer`, `eig`, `svd`, `svdvals`, `matrix_rank`, `trace`, `matmul`, `vecdot`.\n",
    "\n",
    "[skip actions] [skip azp] [skip cirrus]\n",
    "\"\"\"\n",
    "# Split the string by newlines\n",
    "lines = message.splitlines()\n",
    "\n",
    "# Wrap each line separately\n",
    "wrapped_lines = [textwrap.fill(line, width=72) for line in lines]\n",
    "\n",
    "# Join the wrapped lines with newlines\n",
    "wrapped_text = '\\n'.join(wrapped_lines)\n",
    "print(wrapped_text)\n"
   ]
  },
  {
   "cell_type": "code",
   "execution_count": null,
   "metadata": {},
   "outputs": [],
   "source": []
  }
 ],
 "metadata": {
  "kernelspec": {
   "display_name": "numpy-dev",
   "language": "python",
   "name": "python3"
  },
  "language_info": {
   "codemirror_mode": {
    "name": "ipython",
    "version": 3
   },
   "file_extension": ".py",
   "mimetype": "text/x-python",
   "name": "python",
   "nbconvert_exporter": "python",
   "pygments_lexer": "ipython3",
   "version": "3.11.9"
  }
 },
 "nbformat": 4,
 "nbformat_minor": 2
}
